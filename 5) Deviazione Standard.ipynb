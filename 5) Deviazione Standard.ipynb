{
  "nbformat": 4,
  "nbformat_minor": 0,
  "metadata": {
    "colab": {
      "name": "5) Deviazione Standard.ipynb",
      "provenance": [],
      "collapsed_sections": []
    },
    "kernelspec": {
      "name": "python3",
      "display_name": "Python 3"
    },
    "language_info": {
      "name": "python"
    }
  },
  "cells": [
    {
      "cell_type": "markdown",
      "source": [
        "# Deviazione Standard\n",
        "La deviazione standard, o scarto quadratico medio, indicato con σ, è un indice di dispersione statistico che esprime la dispersione dei dati intorno ad un indice di posizione."
      ],
      "metadata": {
        "id": "nmOo6fg6-W2P"
      }
    },
    {
      "cell_type": "code",
      "source": [
        "import math"
      ],
      "metadata": {
        "id": "4TLAXwWa-_EK"
      },
      "execution_count": 1,
      "outputs": []
    },
    {
      "cell_type": "code",
      "source": [
        "D = [1, 4, 6, 8, 9]"
      ],
      "metadata": {
        "id": "cqYVJ8g0-_Xc"
      },
      "execution_count": 2,
      "outputs": []
    },
    {
      "cell_type": "code",
      "source": [
        "def media(B):                  ### Prima occorre creare una funzione \"media\", che utilizzeremo in seguito\n",
        "    return sum(B) / len(B) "
      ],
      "metadata": {
        "id": "hzi9MiMU_Bit"
      },
      "execution_count": 3,
      "outputs": []
    },
    {
      "cell_type": "code",
      "source": [
        "def varianza(A):               ### Ora creiamo una funzione \"varianza\"     \n",
        "    media_funzione = media(A)\n",
        "    numeratore = 0\n",
        "    for num in A:\n",
        "        numeratore += (num - media_funzione) ** 2     \n",
        "    denominatore = len(A) - 1 \n",
        "    return numeratore / denominatore"
      ],
      "metadata": {
        "id": "89s5EdT9_DvM"
      },
      "execution_count": 4,
      "outputs": []
    },
    {
      "cell_type": "code",
      "source": [
        "def deviazione_standard(C):\n",
        "    return math.sqrt(varianza(C))"
      ],
      "metadata": {
        "id": "Algyp5RO_IQG"
      },
      "execution_count": 5,
      "outputs": []
    },
    {
      "cell_type": "code",
      "source": [
        "deviazione_standard(D)"
      ],
      "metadata": {
        "colab": {
          "base_uri": "https://localhost:8080/"
        },
        "id": "EQnJVu11_Jj3",
        "outputId": "5be16f6f-25b8-44dd-d6a3-087eb14d9fdf"
      },
      "execution_count": 6,
      "outputs": [
        {
          "output_type": "execute_result",
          "data": {
            "text/plain": [
              "3.2093613071762426"
            ]
          },
          "metadata": {},
          "execution_count": 6
        }
      ]
    }
  ]
}