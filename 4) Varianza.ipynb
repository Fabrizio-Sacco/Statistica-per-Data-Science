{
  "nbformat": 4,
  "nbformat_minor": 0,
  "metadata": {
    "colab": {
      "name": "4) Varianza.ipynb",
      "provenance": [],
      "collapsed_sections": []
    },
    "kernelspec": {
      "name": "python3",
      "display_name": "Python 3"
    },
    "language_info": {
      "name": "python"
    }
  },
  "cells": [
    {
      "cell_type": "markdown",
      "source": [
        "# Varianza\n",
        "La varianza, indicata con σ2, è la media dei quadrati degli scarti dei dati dalla loro media aritmetica. Identifica la disperione dei valori di una variabile attorno al valore medio. Quindi, minore sarà la varianza, tanto più i valori della variabile sarano concentrati attorno al valore medio.\n",
        "\n",
        "La varianza si ottiene sottraendo ad ogni dato il valore medio, elevando al quadrato ogni valore ottenuto, sommando poi i quadrati appena calcolati e dividendo, infine, per (n -1)."
      ],
      "metadata": {
        "id": "kn2TRAYN7Y4S"
      }
    },
    {
      "cell_type": "code",
      "execution_count": 1,
      "metadata": {
        "id": "mkzw02Qm7Jab"
      },
      "outputs": [],
      "source": [
        "def media(B):                  ### Prima occorre creare una funzione \"media\", che utilizzeremo in seguito\n",
        "    return sum(B) / len(B)    "
      ]
    },
    {
      "cell_type": "code",
      "source": [
        "A = [1, 3, 5, 8, 9]"
      ],
      "metadata": {
        "id": "5rb6rt2Y8o7K"
      },
      "execution_count": 3,
      "outputs": []
    },
    {
      "cell_type": "code",
      "source": [
        "def varianza(A):\n",
        "    media_funzione = media(A)\n",
        "    numeratore = 0\n",
        "    for num in A:\n",
        "        numeratore += (num - media_funzione) ** 2     \n",
        "    denominatore = len(A) - 1 \n",
        "    return numeratore / denominatore"
      ],
      "metadata": {
        "id": "ZTFpCWzW8q_a"
      },
      "execution_count": 4,
      "outputs": []
    },
    {
      "cell_type": "code",
      "source": [
        "varianza(A)"
      ],
      "metadata": {
        "colab": {
          "base_uri": "https://localhost:8080/"
        },
        "id": "rBiSqERk8tie",
        "outputId": "ab86e7ea-1fca-4fd1-c151-6237579caf25"
      },
      "execution_count": 5,
      "outputs": [
        {
          "output_type": "execute_result",
          "data": {
            "text/plain": [
              "11.2"
            ]
          },
          "metadata": {},
          "execution_count": 5
        }
      ]
    },
    {
      "cell_type": "code",
      "source": [
        ""
      ],
      "metadata": {
        "id": "b3pBC7a28u7I"
      },
      "execution_count": null,
      "outputs": []
    }
  ]
}