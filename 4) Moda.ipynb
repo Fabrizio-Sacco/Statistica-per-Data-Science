{
 "cells": [
  {
   "cell_type": "markdown",
   "metadata": {},
   "source": [
    "# Moda "
   ]
  },
  {
   "cell_type": "markdown",
   "metadata": {},
   "source": [
    "La moda di una distribuzione di frequenza è la modalità caratterizzata dalla massima frequenza. Il valore, cioè, che compare più frequentemente.\n",
    "\n",
    "Essa viene indicata con ν0."
   ]
  },
  {
   "cell_type": "code",
   "execution_count": 31,
   "metadata": {},
   "outputs": [],
   "source": [
    "A = [2, 3, 4, 4, 4, 5, 5, 5, 5, 10, 10]"
   ]
  },
  {
   "cell_type": "code",
   "execution_count": 32,
   "metadata": {},
   "outputs": [],
   "source": [
    "def moda(A):\n",
    "    counter = {i : A.count(i) for i in A}\n",
    "    moda = 0 \n",
    "    massima_frequenza = 0\n",
    "    \n",
    "    for key, value in counter.items():\n",
    "        if value > massima_frequenza:\n",
    "            massima_frequenza = value\n",
    "            moda = key\n",
    "    print(moda)"
   ]
  },
  {
   "cell_type": "code",
   "execution_count": 33,
   "metadata": {},
   "outputs": [
    {
     "name": "stdout",
     "output_type": "stream",
     "text": [
      "5\n"
     ]
    }
   ],
   "source": [
    "moda(A)"
   ]
  }
 ],
 "metadata": {
  "kernelspec": {
   "display_name": "Python 3",
   "language": "python",
   "name": "python3"
  },
  "language_info": {
   "codemirror_mode": {
    "name": "ipython",
    "version": 3
   },
   "file_extension": ".py",
   "mimetype": "text/x-python",
   "name": "python",
   "nbconvert_exporter": "python",
   "pygments_lexer": "ipython3",
   "version": "3.8.5"
  }
 },
 "nbformat": 4,
 "nbformat_minor": 4
}
