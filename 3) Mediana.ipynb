{
 "cells": [
  {
   "cell_type": "markdown",
   "metadata": {},
   "source": [
    "# Mediana\n",
    "La mediana è un indice di posizione il cui valore bipartisce la distrubuzione ordinata delle modalità di un carattere.\n",
    "In parole più semplici, essa rappresenta il valore che si trova esattamente nel mezzo in una distribuzione."
   ]
  },
  {
   "cell_type": "code",
   "execution_count": 2,
   "metadata": {},
   "outputs": [],
   "source": [
    "Data = [1, 2, 4, 6, 13, 20, 30, 40, 50, 80, 100]  # Numeri dispari\n",
    "Data_1 = [1, 2, 4, 9, 13, 20, 30, 40]             # Numeri pari"
   ]
  },
  {
   "cell_type": "code",
   "execution_count": 39,
   "metadata": {},
   "outputs": [],
   "source": [
    "def mediana(*args):\n",
    "    if len(args) % 2 != 0:                                         ### Nel caso in cui l'argomento contenga numeri dispari \n",
    "        indice_medio = int((len(args) - 1) / 2)\n",
    "        return args[indice_medio]                                  ### Ritorno l'indice, quindi 5, cioè la sesta posizione\n",
    "    elif len(args) % 2 == 0:                                       ### Nel caso in cui l'argomento contenga numeri pari \n",
    "        indice_medio_1 = int(len(args) / 2)\n",
    "        indice_medio_2 = int(len(args) / 2) - 1\n",
    "        return (args[indice_medio_1] + args[indice_medio_2]) / 2   ### Ritorno, non l'indice, ma la somma, poi divisa, delle due variabili "
   ]
  },
  {
   "cell_type": "code",
   "execution_count": 15,
   "metadata": {},
   "outputs": [
    {
     "data": {
      "text/plain": [
       "20"
      ]
     },
     "execution_count": 15,
     "metadata": {},
     "output_type": "execute_result"
    }
   ],
   "source": [
    "mediana(*Data)"
   ]
  },
  {
   "cell_type": "code",
   "execution_count": 16,
   "metadata": {},
   "outputs": [
    {
     "data": {
      "text/plain": [
       "11.0"
      ]
     },
     "execution_count": 16,
     "metadata": {},
     "output_type": "execute_result"
    }
   ],
   "source": [
    "mediana(*Data_1)"
   ]
  }
 ],
 "metadata": {
  "kernelspec": {
   "display_name": "Python 3",
   "language": "python",
   "name": "python3"
  },
  "language_info": {
   "codemirror_mode": {
    "name": "ipython",
    "version": 3
   },
   "file_extension": ".py",
   "mimetype": "text/x-python",
   "name": "python",
   "nbconvert_exporter": "python",
   "pygments_lexer": "ipython3",
   "version": "3.8.5"
  }
 },
 "nbformat": 4,
 "nbformat_minor": 4
}
