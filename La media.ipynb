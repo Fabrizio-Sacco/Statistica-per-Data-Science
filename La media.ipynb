{
 "cells": [
  {
   "cell_type": "markdown",
   "metadata": {},
   "source": [
    "# La media\n",
    "Le medie, o indici di posizione, sono indici in grado di sintetizzare la posizione di una distribuzione di frequenza attraverso un valore reale rappresentativo della globalità del fenomeno. \n",
    "Ciò significa che attraverso quel valore reale rappresentativo si vuole sintetizzare l'intera distribuzione di frequenza. In sostanza, è un valore in grado di dare una descrizione sintetica del fenomeno osservato."
   ]
  },
  {
   "cell_type": "markdown",
   "metadata": {},
   "source": [
    "La media, in parole più semplici, fornisce un valore medio, appunto, ottenuto sommando ogni valore e dividendo la somma per una cifra uguale al numero di ogni valore."
   ]
  },
  {
   "cell_type": "markdown",
   "metadata": {},
   "source": [
    "In statistica, la media è rappresentata in due modi diversi:\n",
    "μ = indica la media della popolazione;\n",
    "x̅ = indica la media del campione osservato."
   ]
  },
  {
   "cell_type": "markdown",
   "metadata": {},
   "source": [
    "Le utilità della media nella Data Science sono notevoli. Per esempio, nella fase di Data Cleaning la media ci permette, talvolta, di riempire alcuni valori mancanti. "
   ]
  },
  {
   "cell_type": "markdown",
   "metadata": {},
   "source": [
    "___"
   ]
  },
  {
   "cell_type": "markdown",
   "metadata": {},
   "source": [
    "# Esempio "
   ]
  },
  {
   "cell_type": "markdown",
   "metadata": {},
   "source": [
    "Nell'esempio che segue abbiamo una variabile che contiene una lista di 4 numeri. Creeremo una funzione, chiamata \"media\", che riceverà in input la lista, ne sommerà i singoli numeri al suo interno e li dividerà per il numero dei valori della stessa.  "
   ]
  },
  {
   "cell_type": "code",
   "execution_count": 26,
   "metadata": {},
   "outputs": [],
   "source": [
    "num = [1, 2, 4, 7]"
   ]
  },
  {
   "cell_type": "code",
   "execution_count": 27,
   "metadata": {},
   "outputs": [],
   "source": [
    "def media(*args):\n",
    "    return sum(args) / len(args)\n",
    "\n",
    "### *args è una sintassi speciale di Python che ci permette di passare un numero variabile di argomenti ad una funzione "
   ]
  },
  {
   "cell_type": "code",
   "execution_count": 28,
   "metadata": {},
   "outputs": [
    {
     "data": {
      "text/plain": [
       "3.5"
      ]
     },
     "execution_count": 28,
     "metadata": {},
     "output_type": "execute_result"
    }
   ],
   "source": [
    "media(*num)"
   ]
  },
  {
   "cell_type": "markdown",
   "metadata": {},
   "source": [
    "____"
   ]
  }
 ],
 "metadata": {
  "kernelspec": {
   "display_name": "Python 3",
   "language": "python",
   "name": "python3"
  },
  "language_info": {
   "codemirror_mode": {
    "name": "ipython",
    "version": 3
   },
   "file_extension": ".py",
   "mimetype": "text/x-python",
   "name": "python",
   "nbconvert_exporter": "python",
   "pygments_lexer": "ipython3",
   "version": "3.8.5"
  }
 },
 "nbformat": 4,
 "nbformat_minor": 4
}
