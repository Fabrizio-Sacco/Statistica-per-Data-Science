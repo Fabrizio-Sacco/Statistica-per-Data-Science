{
  "nbformat": 4,
  "nbformat_minor": 0,
  "metadata": {
    "colab": {
      "name": "3) Moda.ipynb",
      "provenance": [],
      "collapsed_sections": []
    },
    "kernelspec": {
      "name": "python3",
      "display_name": "Python 3"
    },
    "language_info": {
      "name": "python"
    }
  },
  "cells": [
    {
      "cell_type": "markdown",
      "source": [
        "# Moda\n",
        "La moda di una distribuzione di frequenza è la modalità caratterizzata dalla massima frequenza. Il valore, cioè, che compare più frequentemente.\n",
        "\n",
        "Essa viene indicata con ν0."
      ],
      "metadata": {
        "id": "VowNLdge4_Wt"
      }
    },
    {
      "cell_type": "code",
      "execution_count": 1,
      "metadata": {
        "id": "bsrfCjBy485U"
      },
      "outputs": [],
      "source": [
        "A = [2, 3, 4, 4, 4, 5, 5, 5, 5, 10, 10]"
      ]
    },
    {
      "cell_type": "code",
      "source": [
        "def moda(A):\n",
        "    counter = {i : A.count(i) for i in A}\n",
        "    moda = 0 \n",
        "    massima_frequenza = 0\n",
        "    \n",
        "    for key, value in counter.items():\n",
        "        if value > massima_frequenza:\n",
        "            massima_frequenza = value\n",
        "            moda = key\n",
        "    print(moda)"
      ],
      "metadata": {
        "id": "7qKukl395Eps"
      },
      "execution_count": 2,
      "outputs": []
    },
    {
      "cell_type": "code",
      "source": [
        "moda(A)"
      ],
      "metadata": {
        "colab": {
          "base_uri": "https://localhost:8080/"
        },
        "id": "UIE6JN0P5Gv5",
        "outputId": "c8a05833-6a35-4309-99b5-6222a4895b70"
      },
      "execution_count": 3,
      "outputs": [
        {
          "output_type": "stream",
          "name": "stdout",
          "text": [
            "5\n"
          ]
        }
      ]
    }
  ]
}