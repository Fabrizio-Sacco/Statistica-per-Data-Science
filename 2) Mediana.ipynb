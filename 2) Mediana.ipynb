{
  "nbformat": 4,
  "nbformat_minor": 0,
  "metadata": {
    "colab": {
      "name": "2) Mediana.ipynb",
      "provenance": [],
      "collapsed_sections": []
    },
    "kernelspec": {
      "name": "python3",
      "display_name": "Python 3"
    },
    "language_info": {
      "name": "python"
    }
  },
  "cells": [
    {
      "cell_type": "markdown",
      "source": [
        "# Mediana\n",
        "Volendo dare una definizione da manuale: la mediana è un indice di posizione il cui valore bipartisce la distrubuzione ordinata delle modalità di un carattere. In parole più semplici, essa rappresenta il valore che si trova esattamente nel mezzo di una distribuzione."
      ],
      "metadata": {
        "id": "oJXYGXsLy3qP"
      }
    },
    {
      "cell_type": "code",
      "execution_count": 1,
      "metadata": {
        "id": "Z7pk4Bz6ywQL"
      },
      "outputs": [],
      "source": [
        "Data = [1, 2, 4, 6, 13, 20, 30, 40, 50, 80, 100]  # Numeri dispari\n",
        "Data_1 = [1, 2, 4, 9, 13, 20, 30, 40]             # Numeri pari"
      ]
    },
    {
      "cell_type": "code",
      "source": [
        "def mediana(*args):\n",
        "    if len(args) % 2 != 0:                                         ### Nel caso in cui l'argomento contenga numeri dispari \n",
        "        indice_medio = int((len(args) - 1) / 2)\n",
        "        return args[indice_medio]                                  ### Ritorno l'indice, quindi 5, cioè la sesta posizione\n",
        "    elif len(args) % 2 == 0:                                       ### Nel caso in cui l'argomento contenga numeri pari \n",
        "        indice_medio_1 = int(len(args) / 2)\n",
        "        indice_medio_2 = int(len(args) / 2) - 1\n",
        "        return (args[indice_medio_1] + args[indice_medio_2]) / 2   ### Ritorno, non l'indice, ma la somma, poi divisa, delle due variabili "
      ],
      "metadata": {
        "id": "QAHpuYzsy-Pv"
      },
      "execution_count": 2,
      "outputs": []
    },
    {
      "cell_type": "code",
      "source": [
        "mediana(*Data)"
      ],
      "metadata": {
        "colab": {
          "base_uri": "https://localhost:8080/"
        },
        "id": "UWtjsAvWzBZj",
        "outputId": "b4858012-8347-4dab-9c0e-0d2855e8b5eb"
      },
      "execution_count": 3,
      "outputs": [
        {
          "output_type": "execute_result",
          "data": {
            "text/plain": [
              "20"
            ]
          },
          "metadata": {},
          "execution_count": 3
        }
      ]
    },
    {
      "cell_type": "code",
      "source": [
        "mediana(*Data_1)"
      ],
      "metadata": {
        "colab": {
          "base_uri": "https://localhost:8080/"
        },
        "id": "wICbceA9zESp",
        "outputId": "c61e37c8-3ad9-447a-b6b6-5988994f92ab"
      },
      "execution_count": 4,
      "outputs": [
        {
          "output_type": "execute_result",
          "data": {
            "text/plain": [
              "11.0"
            ]
          },
          "metadata": {},
          "execution_count": 4
        }
      ]
    }
  ]
}