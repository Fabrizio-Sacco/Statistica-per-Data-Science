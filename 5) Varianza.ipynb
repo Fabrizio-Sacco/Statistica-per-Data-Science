{
 "cells": [
  {
   "cell_type": "markdown",
   "metadata": {},
   "source": [
    "# Varianza "
   ]
  },
  {
   "cell_type": "markdown",
   "metadata": {},
   "source": [
    "La varianza, anche conosciuta come deviazione standard quadratica ed indicata con σ2, è la media dei quadrati degli scarti dei dati dalla loro media aritmetica. \n",
    "\n",
    "Essa identifica la disperione dei valori di una variabile attorno al valore medio. Pertanto, minore sarà la varianza, tanto più i valori della variabile sarano concentrati attorno al valore medio.\n",
    "\n",
    "La varianza si oddiene sottraendo ad ogni dato il valore medio, elevando al quadrato ogni valore ottenuto, sommando allora i quadrati appena calcolati e dividendo, infine per (n -1)."
   ]
  },
  {
   "cell_type": "code",
   "execution_count": 19,
   "metadata": {},
   "outputs": [],
   "source": [
    "def media(B):                  ### Prima occorre creare una funzione \"media\", che utilizzeremo in seguito\n",
    "    return sum(B) / len(B)     "
   ]
  },
  {
   "cell_type": "code",
   "execution_count": 32,
   "metadata": {},
   "outputs": [],
   "source": [
    "A = [1, 3, 5, 8, 9]"
   ]
  },
  {
   "cell_type": "code",
   "execution_count": 33,
   "metadata": {},
   "outputs": [],
   "source": [
    "def varianza(A):\n",
    "    media_funzione = media(A)\n",
    "    numeratore = 0\n",
    "    for num in A:\n",
    "        numeratore += (num - media_funzione) ** 2     \n",
    "    denominatore = len(A) - 1 \n",
    "    return numeratore / denominatore"
   ]
  },
  {
   "cell_type": "code",
   "execution_count": 34,
   "metadata": {},
   "outputs": [
    {
     "data": {
      "text/plain": [
       "11.2"
      ]
     },
     "execution_count": 34,
     "metadata": {},
     "output_type": "execute_result"
    }
   ],
   "source": [
    "varianza(A)"
   ]
  }
 ],
 "metadata": {
  "kernelspec": {
   "display_name": "Python 3",
   "language": "python",
   "name": "python3"
  },
  "language_info": {
   "codemirror_mode": {
    "name": "ipython",
    "version": 3
   },
   "file_extension": ".py",
   "mimetype": "text/x-python",
   "name": "python",
   "nbconvert_exporter": "python",
   "pygments_lexer": "ipython3",
   "version": "3.8.5"
  }
 },
 "nbformat": 4,
 "nbformat_minor": 4
}
