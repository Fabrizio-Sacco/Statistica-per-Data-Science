{
 "cells": [
  {
   "cell_type": "markdown",
   "metadata": {},
   "source": [
    "# Deviazione Standard "
   ]
  },
  {
   "cell_type": "markdown",
   "metadata": {},
   "source": [
    "La deviazione standard, o scarto quadratico medio, indicato con σ, è un indice di dispersione statistico che esprime la dispersione dei dati intorno ad un indice di posizione. "
   ]
  },
  {
   "cell_type": "markdown",
   "metadata": {},
   "source": [
    "La devizione standard si ottiene calcolando prima di tutto la varianza e, in seguito, calcolando la radice quadrata della varianza stessa."
   ]
  },
  {
   "cell_type": "markdown",
   "metadata": {},
   "source": [
    "La deviazione standard è uno strumento fondamentale per trovare eventuali outliers."
   ]
  },
  {
   "cell_type": "code",
   "execution_count": 19,
   "metadata": {},
   "outputs": [],
   "source": [
    "import math"
   ]
  },
  {
   "cell_type": "code",
   "execution_count": 30,
   "metadata": {},
   "outputs": [],
   "source": [
    "D = [1, 4, 6, 8, 9]"
   ]
  },
  {
   "cell_type": "code",
   "execution_count": 31,
   "metadata": {},
   "outputs": [],
   "source": [
    "def media(B):                  ### Prima occorre creare una funzione \"media\", che utilizzeremo in seguito\n",
    "    return sum(B) / len(B) "
   ]
  },
  {
   "cell_type": "code",
   "execution_count": 32,
   "metadata": {},
   "outputs": [],
   "source": [
    "def varianza(A):                                      ### Ora creiamo una funzione \"varianza\"     \n",
    "    media_funzione = media(A)\n",
    "    numeratore = 0\n",
    "    for num in A:\n",
    "        numeratore += (num - media_funzione) ** 2     \n",
    "    denominatore = len(A) - 1 \n",
    "    return numeratore / denominatore"
   ]
  },
  {
   "cell_type": "code",
   "execution_count": 33,
   "metadata": {},
   "outputs": [],
   "source": [
    "def deviazione_standard(C):\n",
    "    return math.sqrt(varianza(C))"
   ]
  },
  {
   "cell_type": "code",
   "execution_count": 34,
   "metadata": {},
   "outputs": [
    {
     "data": {
      "text/plain": [
       "3.2093613071762426"
      ]
     },
     "execution_count": 34,
     "metadata": {},
     "output_type": "execute_result"
    }
   ],
   "source": [
    "deviazione_standard(D)"
   ]
  }
 ],
 "metadata": {
  "kernelspec": {
   "display_name": "Python 3",
   "language": "python",
   "name": "python3"
  },
  "language_info": {
   "codemirror_mode": {
    "name": "ipython",
    "version": 3
   },
   "file_extension": ".py",
   "mimetype": "text/x-python",
   "name": "python",
   "nbconvert_exporter": "python",
   "pygments_lexer": "ipython3",
   "version": "3.8.5"
  }
 },
 "nbformat": 4,
 "nbformat_minor": 4
}
