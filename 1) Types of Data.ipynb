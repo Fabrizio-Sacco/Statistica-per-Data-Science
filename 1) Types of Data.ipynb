{
 "cells": [
  {
   "cell_type": "markdown",
   "metadata": {},
   "source": [
    "# Tipi di dati "
   ]
  },
  {
   "cell_type": "markdown",
   "metadata": {},
   "source": [
    "I valori che le unità statistiche possono assumere sono detti \"caratteri\", i quali possono essere \"qualitativi\" o \"quantitativi\" (questi ultimi, a loro volta, si dividono in \"continui\" o \"discreti\")."
   ]
  },
  {
   "cell_type": "markdown",
   "metadata": {},
   "source": [
    "### Caratteri qualitativi\n",
    "Essi sono detti anche \"attributi\" e possono essere indicati solo con espressioni verbali, per esempio, attraverso l'uso di aggettivi o sostantivi. Più in particolare, possono fare riferimento al genere di una persona, al colore degli occhi, a giudizi, etc."
   ]
  },
  {
   "cell_type": "markdown",
   "metadata": {},
   "source": [
    "Nel dataframe di seguito possiamo osservare la presenza di alcuni caratteri qualitativi come \"Good\" ed \"Ottimo\"."
   ]
  },
  {
   "cell_type": "code",
   "execution_count": 13,
   "metadata": {},
   "outputs": [
    {
     "name": "stdout",
     "output_type": "stream",
     "text": [
      "   Primo Secondo   Terzo\n",
      "0     60    12.1      10\n",
      "1     11      18  Ottimo\n",
      "2     82    Good     3.6\n"
     ]
    }
   ],
   "source": [
    "import pandas as pd\n",
    "\n",
    "Data = pd.DataFrame({'Primo': [60, 11, 82], 'Secondo': [12.1, 18, 'Good'], 'Terzo': [10, 'Ottimo', 3.6]})\n",
    "print(Data)"
   ]
  },
  {
   "cell_type": "markdown",
   "metadata": {},
   "source": [
    "### Caratteri quantitativi\n",
    "Essi, invece, indicano espressioni numeriche. \n",
    "\n",
    "Nel caso di caratteri quantitativi \"discreti\" si fa riferimento a numeri interi: un esempio classico è costituito dal numero dei componenti di una famiglia.  \n",
    "\n",
    "I caratteri quantitativi continui includono, invece, anche numeri decimali e possono indicare, per esempio, il reddito di una persona (es. €3000,50). I numeri decimali, per comodità, vengono anche raggruppati in classi, le quali contengono i valori da un determinato numero ad un altro."
   ]
  },
  {
   "cell_type": "markdown",
   "metadata": {},
   "source": [
    "Nel dataframe che abbiamo appena visto le variabili qualitative discrete sono rappresentate invece dai numeri 60, 121, 10, 11, etc., mentre quelle quantitative continue dai numeri 12.1 e 3.6. \n"
   ]
  },
  {
   "cell_type": "code",
   "execution_count": 14,
   "metadata": {},
   "outputs": [
    {
     "name": "stdout",
     "output_type": "stream",
     "text": [
      "   Primo Secondo   Terzo\n",
      "0     60    12.1      10\n",
      "1     11      18  Ottimo\n",
      "2     82    Good     3.6\n"
     ]
    }
   ],
   "source": [
    "print(Data)"
   ]
  },
  {
   "cell_type": "markdown",
   "metadata": {},
   "source": [
    "______________________________________"
   ]
  },
  {
   "cell_type": "markdown",
   "metadata": {},
   "source": [
    "# Esempio  "
   ]
  },
  {
   "cell_type": "markdown",
   "metadata": {},
   "source": [
    "Com'è immaginabile, sia le variabili qualitative che quantitative possono assumere qualsiasi valore, ma facciamo ora altri semplici esempi per capire come questi caratteri possono esistere all'interno di un dataframe."
   ]
  },
  {
   "cell_type": "markdown",
   "metadata": {},
   "source": [
    "Non è inusuale avere a che fare con dataset che hanno come unità statistiche singoli individui. Prendiamo, per esempio, un dataset che contenga quattro caratteri (genere, colore degli occhi, anni e reddito) di tre soggetti diversi."
   ]
  },
  {
   "cell_type": "code",
   "execution_count": 21,
   "metadata": {},
   "outputs": [
    {
     "data": {
      "text/html": [
       "<div>\n",
       "<style scoped>\n",
       "    .dataframe tbody tr th:only-of-type {\n",
       "        vertical-align: middle;\n",
       "    }\n",
       "\n",
       "    .dataframe tbody tr th {\n",
       "        vertical-align: top;\n",
       "    }\n",
       "\n",
       "    .dataframe thead th {\n",
       "        text-align: right;\n",
       "    }\n",
       "</style>\n",
       "<table border=\"1\" class=\"dataframe\">\n",
       "  <thead>\n",
       "    <tr style=\"text-align: right;\">\n",
       "      <th></th>\n",
       "      <th>Genere</th>\n",
       "      <th>Colore occhi</th>\n",
       "      <th>Anni</th>\n",
       "      <th>Reddito</th>\n",
       "    </tr>\n",
       "  </thead>\n",
       "  <tbody>\n",
       "    <tr>\n",
       "      <th>0</th>\n",
       "      <td>Maschio</td>\n",
       "      <td>Blu</td>\n",
       "      <td>20</td>\n",
       "      <td>2150.75</td>\n",
       "    </tr>\n",
       "    <tr>\n",
       "      <th>1</th>\n",
       "      <td>Femmina</td>\n",
       "      <td>Verdi</td>\n",
       "      <td>49</td>\n",
       "      <td>5030.31</td>\n",
       "    </tr>\n",
       "    <tr>\n",
       "      <th>2</th>\n",
       "      <td>Maschio</td>\n",
       "      <td>Marroni</td>\n",
       "      <td>35</td>\n",
       "      <td>3100.25</td>\n",
       "    </tr>\n",
       "  </tbody>\n",
       "</table>\n",
       "</div>"
      ],
      "text/plain": [
       "    Genere Colore occhi  Anni  Reddito\n",
       "0  Maschio          Blu    20  2150.75\n",
       "1  Femmina        Verdi    49  5030.31\n",
       "2  Maschio      Marroni    35  3100.25"
      ]
     },
     "execution_count": 21,
     "metadata": {},
     "output_type": "execute_result"
    }
   ],
   "source": [
    "Persone = pd.DataFrame({'Genere': ['Maschio', 'Femmina', 'Maschio'], \n",
    "                        'Colore occhi': ['Blu', 'Verdi', 'Marroni'], \n",
    "                        'Anni': [20, 49, 35], \n",
    "                        'Reddito': [2150.75, 5030.31, 3100.25]})\n",
    "Persone"
   ]
  },
  {
   "cell_type": "markdown",
   "metadata": {},
   "source": [
    "In questo semplice dataframe possiamo notare come le variabili qualitative stiano ad indicare il genere (maschio o femmina) e il colore degli occhi (blu, verdi o marroni). Mentre, le variabili quantitative discrete indicano gli anni e quelle continue il reddito di ogni unità statistica presa in esame."
   ]
  }
 ],
 "metadata": {
  "kernelspec": {
   "display_name": "Python 3",
   "language": "python",
   "name": "python3"
  },
  "language_info": {
   "codemirror_mode": {
    "name": "ipython",
    "version": 3
   },
   "file_extension": ".py",
   "mimetype": "text/x-python",
   "name": "python",
   "nbconvert_exporter": "python",
   "pygments_lexer": "ipython3",
   "version": "3.8.5"
  }
 },
 "nbformat": 4,
 "nbformat_minor": 4
}
