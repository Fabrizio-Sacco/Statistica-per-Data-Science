{
  "nbformat": 4,
  "nbformat_minor": 0,
  "metadata": {
    "colab": {
      "name": "1) Media.ipynb",
      "provenance": [],
      "collapsed_sections": []
    },
    "kernelspec": {
      "name": "python3",
      "display_name": "Python 3"
    },
    "language_info": {
      "name": "python"
    }
  },
  "cells": [
    {
      "cell_type": "markdown",
      "source": [
        "# Media\n",
        "In statistica, la media aritmetica è un numero che descrive sinteticamente un insieme di dati ed è ottenuto sommando ogni valore e dividendo la somma per una cifra uguale al numero di ogni valore.\n",
        "\n",
        "È rappresentata in due modi diversi:\n",
        "*   μ = indica la media della popolazione; \n",
        "*   x̅ = indica la media del campione osservato.\n",
        "\n",
        "Le utilità della media nella Data Science sono notevoli. Per esempio, nella fase di Data Cleaning la media ci permette, talvolta, di riempire alcuni valori mancanti."
      ],
      "metadata": {
        "id": "ZfFklBOHyFP8"
      }
    },
    {
      "cell_type": "markdown",
      "source": [
        "______________________________________"
      ],
      "metadata": {
        "id": "4OH4vUawyJK-"
      }
    },
    {
      "cell_type": "markdown",
      "source": [
        "## Esempio\n",
        "Nell'esempio che segue abbiamo una variabile che contiene una lista di 4 numeri. Creeremo una funzione, chiamata \"media\", che riceverà in input la lista, ne sommerà i singoli numeri al suo interno e li dividerà per il numero dei valori."
      ],
      "metadata": {
        "id": "ADZt-eDiyLcX"
      }
    },
    {
      "cell_type": "code",
      "execution_count": null,
      "metadata": {
        "id": "Got-3Bmqx6Ty"
      },
      "outputs": [],
      "source": [
        "num = [1, 2, 4, 7]"
      ]
    },
    {
      "cell_type": "code",
      "source": [
        "def media(*args):\n",
        "    return sum(args) / len(args)\n",
        "\n",
        "### *args è una sintassi speciale di Python che ci permette di passare un numero variabile di argomenti ad una funzione "
      ],
      "metadata": {
        "id": "BligZIP6ySDy"
      },
      "execution_count": null,
      "outputs": []
    },
    {
      "cell_type": "code",
      "source": [
        "media(*num)"
      ],
      "metadata": {
        "colab": {
          "base_uri": "https://localhost:8080/"
        },
        "id": "mcuNlE4NyYKn",
        "outputId": "153ab5de-7511-4968-b3f4-3354cfc74558"
      },
      "execution_count": null,
      "outputs": [
        {
          "output_type": "execute_result",
          "data": {
            "text/plain": [
              "3.5"
            ]
          },
          "metadata": {},
          "execution_count": 3
        }
      ]
    }
  ]
}